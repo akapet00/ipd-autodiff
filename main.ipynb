{
 "cells": [
  {
   "cell_type": "code",
   "execution_count": null,
   "id": "crude-maple",
   "metadata": {},
   "outputs": [],
   "source": [
    "import os\n",
    "import itertools\n",
    "\n",
    "import jax\n",
    "from jax import jit, grad, jacfwd, jacrev, vmap\n",
    "from jax.ops import index, index_update\n",
    "import jax.numpy as jnp\n",
    "import matplotlib.pyplot as plt\n",
    "import numpy as np\n",
    "from scipy.constants import epsilon_0 as eps_0, mu_0\n",
    "\n",
    "\n",
    "from scripts.loader import load_antenna_el_properties\n",
    "from scripts.misc import fig_config, rmse, mae\n",
    "from scripts.nc_utils import (central_difference, holoborodko,\n",
    "                              elementwise_quad as equad,\n",
    "                              elementwise_dblquad as edblquad)"
   ]
  },
  {
   "cell_type": "code",
   "execution_count": null,
   "id": "adequate-hamilton",
   "metadata": {},
   "outputs": [],
   "source": [
    "# jax config\n",
    "jax.config.update(\"jax_enable_x64\", True)"
   ]
  },
  {
   "cell_type": "code",
   "execution_count": null,
   "id": "dental-national",
   "metadata": {},
   "outputs": [],
   "source": [
    "# matplotlib config\n",
    "%config InlineBackend.figure_format = 'retina'\n",
    "R = 'crimson'\n",
    "B = 'royalblue'\n",
    "G = 'mediumseagreen'"
   ]
  },
  {
   "cell_type": "markdown",
   "id": "republican-replication",
   "metadata": {},
   "source": [
    "# 1 Toy example\n",
    "\n",
    "Consider a smooth one dimensional function, $f$, written as follows\n",
    "\n",
    "$$ f(x) = \\sin(\\sin(2x)), $$ for $x \\in [-1, 1]$.\n",
    "\n",
    "Its first derivative is given in the following analytical expression:\n",
    "\n",
    "$$ \\frac{df}{dx} = 2 \\cos(2x) \\cos(\\sin(2x)), $$\n",
    "\n",
    "and its second derivative:\n",
    "\n",
    "$$ \\frac{d^2f}{dx} = - 4 \\cdot \\Big(\\sin\\big(\\sin(2x)\\big) \\cos^2(2x) + \\sin(2x) \\cos\\big(\\sin(2x)\\big)\\Big).$$\n",
    "\n",
    "Lets compare two different numerical differentiation approaches, concretely finite differentiation versus automatic differentiation."
   ]
  },
  {
   "cell_type": "code",
   "execution_count": null,
   "id": "least-bracelet",
   "metadata": {},
   "outputs": [],
   "source": [
    "def f(x):\n",
    "    return jnp.sin(jnp.sin(2 * x))\n",
    "\n",
    "def df(x):\n",
    "    return 2 * jnp.cos(2 * x) * jnp.cos(jnp.sin(2 * x))\n",
    "\n",
    "def ddf(x):\n",
    "    return - 4. * (jnp.sin(jnp.sin(2 * x)) * jnp.cos(2 * x) ** 2\n",
    "                   + jnp.sin(2 * x) * jnp.cos(jnp.sin(2 * x)))\n",
    "\n",
    "\n",
    "df_ad = vmap(grad(f))\n",
    "ddf_ad = vmap(grad(grad(f)))\n",
    "\n",
    "\n",
    "df_fd = central_difference(f, order=1)\n",
    "ddf_fd = central_difference(f, order=2)"
   ]
  },
  {
   "cell_type": "code",
   "execution_count": null,
   "id": "another-right",
   "metadata": {},
   "outputs": [],
   "source": [
    "x = jnp.linspace(-1, 1, 21)\n",
    "ms = range(-15, -1)\n",
    "ds = [0.25, 0.5, 0.75, 1]\n",
    "deltas = [float(f'{d}e{m}') for m, d in itertools.product(ms, ds)]\n",
    "dy_fd_rmse_list = []\n",
    "ddy_fd_rmse_list = []\n",
    "for delta in deltas:\n",
    "    df_fd = central_difference(f, order=1, delta=delta)\n",
    "    ddf_fd = central_difference(f, order=2, delta=delta)\n",
    "    dy_fd_rmse_list.append(rmse(df_fd(x), df(x)))\n",
    "    ddy_fd_rmse_list.append(rmse(ddf_fd(x), ddf(x)))"
   ]
  },
  {
   "cell_type": "code",
   "execution_count": null,
   "id": "genuine-standing",
   "metadata": {},
   "outputs": [],
   "source": [
    "fig_config(latex=True, scaler=1.5)\n",
    "fig = plt.figure()\n",
    "ax = fig.add_subplot(111)\n",
    "ax.loglog(deltas, dy_fd_rmse_list, '.-', c=B, label='$1^{st}$ order FD')\n",
    "ax.loglog(deltas, ddy_fd_rmse_list, '.-', c=R, label='$2^{nd}$ order FD')\n",
    "ax.annotate('', xy=(1e-15, 10e5), xytext=(1.5e-12, 10e5), \n",
    "            arrowprops={'facecolor': 'wheat', 'alpha': 0.5})\n",
    "ax.annotate('', xy=(1.5e-3, 10e5), xytext=(1e-6, 10e5), \n",
    "            arrowprops={'facecolor': 'wheat', 'alpha': 0.5})\n",
    "ax.text(1e-15, 10e1, 'round-off error',\n",
    "        bbox={'facecolor': 'wheat', 'alpha': 0.5, 'pad': 5})\n",
    "ax.text(1e-6, 10e1, 'truncation error',\n",
    "        bbox={'facecolor': 'wheat', 'alpha': 0.5, 'pad': 5})\n",
    "ax.set_xlabel(r'$\\delta$')\n",
    "ax.set_ylabel(r'$L^{2}$ error')\n",
    "ax.grid()\n",
    "ax.legend()\n",
    "plt.show()"
   ]
  },
  {
   "cell_type": "code",
   "execution_count": null,
   "id": "rubber-manchester",
   "metadata": {},
   "outputs": [],
   "source": [
    "fname = 'fig1a'\n",
    "fig.savefig(os.path.join('figures', f'{fname}.pdf'),\n",
    "            transparent=True,\n",
    "            bbox_inches='tight', pad_inches=0.1)"
   ]
  },
  {
   "cell_type": "code",
   "execution_count": null,
   "id": "frequent-wheat",
   "metadata": {},
   "outputs": [],
   "source": [
    "x = jnp.linspace(-1, 1, 21)\n",
    "y = f(x)\n",
    "dy = df(x)\n",
    "dy_ad = df_ad(x)\n",
    "dy_fd = df_fd(x)\n",
    "ddy = ddf(x)\n",
    "ddy_ad = ddf_ad(x)\n",
    "ddy_fd = ddf_fd(x)\n",
    "\n",
    "dy_ad_rmse = rmse(dy, dy_ad)\n",
    "dy_fd_rmse = rmse(dy, dy_fd)\n",
    "ddy_ad_rmse = rmse(ddy, ddy_ad)\n",
    "ddy_fd_rmse = rmse(ddy, ddy_fd)"
   ]
  },
  {
   "cell_type": "code",
   "execution_count": null,
   "id": "chief-clause",
   "metadata": {},
   "outputs": [],
   "source": [
    "print(f'1st order AD, RMSE {dy_ad_rmse:.2f}')\n",
    "print(f'1st order FD, RMSE {dy_fd_rmse:.2e}')\n",
    "print(f'2nd order AD, RMSE {ddy_ad_rmse:.2f}')\n",
    "print(f'2nd order FD, RMSE {ddy_fd_rmse:.2e}')"
   ]
  },
  {
   "cell_type": "code",
   "execution_count": null,
   "id": "worth-isaac",
   "metadata": {},
   "outputs": [],
   "source": [
    "fig_config(latex=True, scaler=1.5)\n",
    "fig = plt.figure()\n",
    "ax = fig.add_subplot(111)\n",
    "ax.plot(x, dy_ad, 's-', color=B, label=f'$1^{{st}}$ order AD')\n",
    "ax.plot(x, dy_fd, '^--', color=R, label=f'$1^{{st}}$ order FD')\n",
    "ax.plot(x, ddy_ad, 'o-', color=B, label=f'$2^{{nd}}$ order AD')\n",
    "ax.plot(x, ddy_fd, 'v--', color=G, label=f'$2^{{nd}}$ order FD')\n",
    "ax.set_xlabel('$x$')\n",
    "ax.set_ylabel('$df / dx$, $d^2f / dx^2$')\n",
    "ax.legend()\n",
    "ax.grid()\n",
    "plt.show()"
   ]
  },
  {
   "cell_type": "code",
   "execution_count": null,
   "id": "ideal-interim",
   "metadata": {},
   "outputs": [],
   "source": [
    "fname = 'fig1b'\n",
    "fig.savefig(os.path.join('figures', f'{fname}.pdf'), transparent=True,\n",
    "            bbox_inches='tight', pad_inches=0.1)"
   ]
  },
  {
   "cell_type": "markdown",
   "id": "sublime-correlation",
   "metadata": {},
   "source": [
    "# 2 Working example\n",
    "\n",
    "Determining incident power density on the human skin model (free space approximation).\n",
    "The following code demonstrate automatic differentiation capabilitis and its superiority over finite difference scheme when differentiating the Green function in free space in E and H field."
   ]
  },
  {
   "cell_type": "code",
   "execution_count": null,
   "id": "raising-voice",
   "metadata": {},
   "outputs": [],
   "source": [
    "# frequency\n",
    "f = 15e9\n",
    "\n",
    "# antenna electric properties (Poljak 2005)\n",
    "antenna_data = load_antenna_el_properties(f)\n",
    "Is = antenna_data.ireal.to_numpy() + antenna_data.iimag.to_numpy() * 1j\n",
    "dx = antenna_data.x[1] - antenna_data.x[0]\n",
    "Is_x = holoborodko(Is, dx)\n",
    "\n",
    "# antenna position -- coordinates\n",
    "xs = antenna_data.x.to_numpy()\n",
    "xs = jnp.asarray(xs)\n",
    "ys = jnp.zeros_like(xs)\n",
    "zs = jnp.zeros_like(xs)\n",
    "\n",
    "# effective radiated skin area\n",
    "target_area = (0.02, 0.02)  # 2 x 2 cm2\n",
    "A = target_area[0] * target_area[1]\n",
    "d = - 10 / 1000  # distance from the antenna\n",
    "N = [21, 21, 21]\n",
    "xt = jnp.linspace(-target_area[0]/2, target_area[0]/2, N[0]) + xs[-1] / 2\n",
    "yt = jnp.linspace(-target_area[1]/2, target_area[1]/2, N[1])\n",
    "zt = jnp.array([d])"
   ]
  },
  {
   "cell_type": "markdown",
   "id": "dense-belief",
   "metadata": {},
   "source": [
    "## 2.1 Central difference approach"
   ]
  },
  {
   "cell_type": "code",
   "execution_count": null,
   "id": "occupied-black",
   "metadata": {},
   "outputs": [],
   "source": [
    "def green_fd(xt, yt, zt, xs, ys, zs, omega):\n",
    "    k = jnp.sqrt(omega ** 2 * eps_0 * mu_0)\n",
    "    R = jnp.sqrt((xt - xs) ** 2 + (yt - ys) ** 2 + (zt - zs) ** 2)\n",
    "    return jnp.exp(-1j * k * R) / R"
   ]
  },
  {
   "cell_type": "code",
   "execution_count": null,
   "id": "complimentary-region",
   "metadata": {},
   "outputs": [],
   "source": [
    "def efield_fd(xt, yt, zt, xs, ys, zs, Is, Is_x, frequency, delta=1e-4):\n",
    "    omega = 2 * np.pi * frequency\n",
    "    gamma = 1j * np.sqrt(omega ** 2 * mu_0 * eps_0)\n",
    "    prefix = 1 / (1j * 4 * np.pi * omega * eps_0)\n",
    "    g = green_fd(xt, yt, zt, xs, ys, zs, omega)\n",
    "    g_x = central_difference(green_fd, axis='x',\n",
    "                             args=(yt, zt, xs, ys, zs, omega), delta=delta)(xt)\n",
    "    g_y = central_difference(green_fd, axis='y',\n",
    "                             args=(xt, zt, xs, ys, zs, omega), delta=delta)(yt)\n",
    "    g_z = central_difference(green_fd, axis='z',\n",
    "                             args=(xt, yt, xs, ys, zs, omega), delta=delta)(zt)\n",
    "    Ex = prefix * (- equad(Is_x * g_x, xs, 3)\n",
    "                   - gamma ** 2 * equad(Is * g, xs, 3))\n",
    "    Ey = prefix * (equad(Is_x * g_y, xs, 3))\n",
    "    Ez = prefix * (equad(Is_x * g_z, xs, 3))\n",
    "    return (Ex, Ey, Ez)\n",
    "\n",
    "\n",
    "def hfield_fd(xt, yt, zt, xs, ys, zs, Is, frequency, delta=1e-4):\n",
    "    omega = 2 * np.pi * frequency\n",
    "    prefix = 1 / (4 * np.pi)\n",
    "    g_y = central_difference(green_fd, axis='y',\n",
    "                             args=(xt, zt, xs, ys, zs, omega), delta=delta)(yt)\n",
    "    g_z = central_difference(green_fd, axis='z',\n",
    "                             args=(xt, yt, xs, ys, zs, omega), delta=delta)(zt)\n",
    "    Hy = prefix * equad(Is * g_z, xs, 3)\n",
    "    Hz = - prefix * equad(Is * g_y, xs, 3)\n",
    "    Hx = np.zeros_like(Hz)\n",
    "    return (Hx, Hy, Hz)"
   ]
  },
  {
   "cell_type": "code",
   "execution_count": null,
   "id": "imperial-interim",
   "metadata": {},
   "outputs": [],
   "source": [
    "Ex_fd = np.empty((xt.size, yt.size, zt.size), dtype=np.complex128)\n",
    "Ey_fd = np.empty((xt.size, yt.size, zt.size), dtype=np.complex128)\n",
    "Ez_fd = np.empty((xt.size, yt.size, zt.size), dtype=np.complex128)\n",
    "Hx_fd = np.empty((xt.size, yt.size, zt.size), dtype=np.complex128)\n",
    "Hy_fd = np.empty((xt.size, yt.size, zt.size), dtype=np.complex128)\n",
    "Hz_fd = np.empty((xt.size, yt.size, zt.size), dtype=np.complex128)\n",
    "for x_idx, _xt in enumerate(xt):\n",
    "    for y_idx, _yt in enumerate(yt):\n",
    "        for z_idx, _zt in enumerate(zt):\n",
    "            _ex, _ey, _ez = efield_fd(_xt, _yt, _zt, xs, ys, zs, Is, Is_x, f)\n",
    "            _hx, _hy, _hz = hfield_fd(_xt, _yt, _zt, xs, ys, zs, Is, f)\n",
    "            Ex_fd[x_idx, y_idx, z_idx] = _ex\n",
    "            Ey_fd[x_idx, y_idx, z_idx] = _ey\n",
    "            Ez_fd[x_idx, y_idx, z_idx] = _ez\n",
    "            Hx_fd[x_idx, y_idx, z_idx] = _hx\n",
    "            Hy_fd[x_idx, y_idx, z_idx] = _hy\n",
    "            Hz_fd[x_idx, y_idx, z_idx] = _hz"
   ]
  },
  {
   "cell_type": "code",
   "execution_count": null,
   "id": "informative-shell",
   "metadata": {},
   "outputs": [],
   "source": [
    "Sinc_fd = np.abs(np.sqrt(np.power(Ex_fd * Hy_fd.conj(), 2)))\n",
    "Sab_fs_fd = 1 / (2 * A) * edblquad(\n",
    "    np.real(np.sqrt(np.power(Ex_fd * Hy_fd.conj(), 2))), xt, yt, 31)"
   ]
  },
  {
   "cell_type": "markdown",
   "id": "collected-swing",
   "metadata": {},
   "source": [
    "## 2.2 Automatic differentiation approach"
   ]
  },
  {
   "cell_type": "code",
   "execution_count": null,
   "id": "elementary-garden",
   "metadata": {},
   "outputs": [],
   "source": [
    "def green_ad(T, xs, ys, zs, omega):\n",
    "    k = jnp.sqrt(omega ** 2 * eps_0 * mu_0)\n",
    "    R = jnp.sqrt((T[0] - xs) ** 2 + (T[1] - ys) ** 2 + (T[2] - zs) ** 2)\n",
    "    return jnp.exp(-1j * k * R) / R"
   ]
  },
  {
   "cell_type": "code",
   "execution_count": null,
   "id": "constant-emergency",
   "metadata": {},
   "outputs": [],
   "source": [
    "green_ad = jit(green_ad)\n",
    "green_jac = jit(jacfwd(green_ad))"
   ]
  },
  {
   "cell_type": "code",
   "execution_count": null,
   "id": "chief-culture",
   "metadata": {},
   "outputs": [],
   "source": [
    "def efield_ad(xt, yt, zt, xs, ys, zs, Is, Is_x, frequency):\n",
    "    omega = 2 * jnp.pi * frequency\n",
    "    gamma = 1j * jnp.sqrt(omega ** 2 * mu_0 * eps_0)\n",
    "    prefix = 1 / (1j * 4 * jnp.pi * omega * eps_0)\n",
    "    g = green_ad(np.asarray([xt, yt, zt]), xs, ys, zs, omega)\n",
    "    J = green_jac(np.asarray([xt, yt, zt]), xs, ys, zs, omega)\n",
    "    Ex = prefix * (- equad(Is_x * J[:, 0], xs, 3)\n",
    "                   - gamma ** 2 * equad(Is * g, xs, 3))\n",
    "    Ey = prefix * (equad(Is_x * J[:, 1], xs, 3))\n",
    "    Ez = prefix * (equad(Is_x * J[:, 2], xs, 3))\n",
    "    return (Ex, Ey, Ez)\n",
    "\n",
    "\n",
    "def hfield_ad(xt, yt, zt, xs, ys, zs, Is, frequency):\n",
    "    omega = 2 * jnp.pi * frequency\n",
    "    prefix = 1 / (4 * jnp.pi)\n",
    "    J = green_jac(np.asarray([xt, yt, zt]), xs, ys, zs, omega)\n",
    "    Hy = prefix * equad(Is * J[:, 2], xs, 3)\n",
    "    Hz = - prefix * equad(Is * J[:, 1], xs, 3)\n",
    "    Hx = np.zeros_like(Hz)\n",
    "    return (Hx, Hy, Hz)"
   ]
  },
  {
   "cell_type": "code",
   "execution_count": null,
   "id": "prerequisite-montgomery",
   "metadata": {},
   "outputs": [],
   "source": [
    "Ex_ad = jnp.empty((xt.size, yt.size, zt.size), dtype=jnp.complex128)\n",
    "Ey_ad = jnp.empty((xt.size, yt.size, zt.size), dtype=jnp.complex128)\n",
    "Ez_ad = jnp.empty((xt.size, yt.size, zt.size), dtype=jnp.complex128)\n",
    "Hx_ad = jnp.empty((xt.size, yt.size, zt.size), dtype=jnp.complex128)\n",
    "Hy_ad = jnp.empty((xt.size, yt.size, zt.size), dtype=jnp.complex128)\n",
    "Hz_ad = jnp.empty((xt.size, yt.size, zt.size), dtype=jnp.complex128)\n",
    "for x_idx, _xt in enumerate(xt):\n",
    "    for y_idx, _yt in enumerate(yt):\n",
    "        for z_idx, _zt in enumerate(zt):\n",
    "            _ex, _ey, _ez = efield_ad(_xt, _yt, _zt, xs, ys, zs, Is, Is_x, f)\n",
    "            _hx, _hy, _hz = hfield_ad(_xt, _yt, _zt, xs, ys, zs, Is, f)\n",
    "            Ex_ad = index_update(Ex_ad, index[x_idx, y_idx, z_idx], _ex.item())\n",
    "            Ey_ad = index_update(Ey_ad, index[x_idx, y_idx, z_idx], _ey.item())\n",
    "            Ez_ad = index_update(Ez_ad, index[x_idx, y_idx, z_idx], _ez.item())\n",
    "            Hx_ad = index_update(Hx_ad, index[x_idx, y_idx, z_idx], _hx.item())\n",
    "            Hy_ad = index_update(Hy_ad, index[x_idx, y_idx, z_idx], _hy.item())\n",
    "            Hz_ad = index_update(Hz_ad, index[x_idx, y_idx, z_idx], _hz.item())"
   ]
  },
  {
   "cell_type": "code",
   "execution_count": null,
   "id": "twenty-bahamas",
   "metadata": {},
   "outputs": [],
   "source": [
    "Sinc_ad = np.abs(np.sqrt(np.power(Ex_ad * Hy_ad.conj(), 2)))\n",
    "Sab_fs_ad = 1 / (2 * A) * edblquad(\n",
    "    np.real(np.sqrt(np.power(Ex_ad * Hy_ad.conj(), 2))), xt, yt, 31)"
   ]
  },
  {
   "cell_type": "markdown",
   "id": "covered-captain",
   "metadata": {},
   "source": [
    "## 2.3 Evaluation"
   ]
  },
  {
   "cell_type": "code",
   "execution_count": null,
   "id": "urban-holocaust",
   "metadata": {},
   "outputs": [],
   "source": [
    "interp = 'spline36'\n",
    "extent = (xt.min(), xt.max(), yt.min(), yt.max())\n",
    "difference = np.abs(Sinc_fd - Sinc_ad)\n",
    "\n",
    "fig_config(latex=True, scaler=1.5)\n",
    "fig = plt.figure(constrained_layout=True, figsize=(13.5, 6.5))\n",
    "gs = fig.add_gridspec(nrows=2, ncols=3)\n",
    "ax1 = fig.add_subplot(gs[0, 0])\n",
    "ax2 = fig.add_subplot(gs[1, 0], sharex=ax1)\n",
    "ax3 = fig.add_subplot(gs[0:, 1:])\n",
    "\n",
    "cs1 = ax1.imshow(Sinc_fd, interpolation=interp, extent=extent)\n",
    "cbar1 = fig.colorbar(cs1, ax=ax1)\n",
    "cbar1.ax.set_ylabel('S$_{inc}^{FD}$ [W/m$^2$]')\n",
    "ax1.plot(xs, ys, '-', color='crimson', label='dipole antenna')\n",
    "ax1.set_title(f'S$_{{ab, f.s.}}^{{FD}} = {Sab_fs_fd:.4f}$ [W/m$^2$]')\n",
    "ax1.set_xticks([0.0, 0.0075, 0.015])\n",
    "ax1.set_yticks([-0.01, -0.005, 0.0, 0.005, 0.01])\n",
    "ax1.set_ylabel('$y$ [m]')\n",
    "\n",
    "cs2 = ax2.imshow(Sinc_ad, interpolation=interp, extent=extent)\n",
    "cbar2 = fig.colorbar(cs2, ax=ax2)\n",
    "cbar2.ax.set_ylabel('S$_{inc}^{AD}$ [W/m$^2$]')\n",
    "ax2.plot(xs, ys, '-', color='crimson', linewidth=3)\n",
    "ax2.set_title(f'S$_{{ab, f.s.}}^{{AD}} = {Sab_fs_ad.item():.4f}$ [W/m$^2$]')\n",
    "ax2.set_xticks([0.0, 0.0075, 0.015])\n",
    "ax2.set_yticks([-0.01, -0.005, 0.0, 0.005, 0.01])\n",
    "ax2.set_xlabel('$x$ [m]')\n",
    "ax2.set_ylabel('$y$ [m]')\n",
    "\n",
    "cs3 = ax3.imshow(difference, interpolation=interp, extent=extent)\n",
    "cbar3 = fig.colorbar(cs3, ax=ax3)\n",
    "cbar3.ax.set_ylabel('$|$S$_{inc}^{FD} - $S$_{inc}^{AD}|$ [W/m$^2$]')\n",
    "ax3.set_xticks([0.0, 0.0075, 0.015])\n",
    "ax3.set_yticks([-0.01, -0.005, 0.0, 0.005, 0.01])\n",
    "ax3.set_xlabel('$x$ [m]')\n",
    "ax3.set_ylabel('$y$ [m]')\n",
    "\n",
    "fig.legend(bbox_to_anchor=(0.175, 1.1), frameon=True, edgecolor='k')\n",
    "plt.setp(ax1.get_xticklabels(), visible=False)\n",
    "plt.show()"
   ]
  },
  {
   "cell_type": "code",
   "execution_count": null,
   "id": "tropical-setting",
   "metadata": {},
   "outputs": [],
   "source": [
    "fname = 'fig2'\n",
    "fig.savefig(os.path.join('figures', f'{fname}.pdf'),\n",
    "            transparent=True,\n",
    "            bbox_inches='tight', pad_inches=0.1)"
   ]
  },
  {
   "cell_type": "markdown",
   "id": "cathedral-darwin",
   "metadata": {},
   "source": [
    "# 3 Comprehensive simulation\n",
    "\n",
    "Propagation of the round-off error in central difference scheme over the range of mmWave frequencies.\n",
    "Automatic differentiation is considered as the ground truth."
   ]
  },
  {
   "cell_type": "code",
   "execution_count": null,
   "id": "located-pittsburgh",
   "metadata": {},
   "outputs": [],
   "source": [
    "target_area = (0.02, 0.02)\n",
    "A = target_area[0] * target_area[1]\n",
    "d = -15 / 1000\n",
    "N = [21, 21, 21]\n",
    "f_list = [3., 6., 10., 15., 20., 30., 40., 60., 80., 100.]\n",
    "delta_list = [1e-3, 0.5e-3, 1e-4]"
   ]
  },
  {
   "cell_type": "code",
   "execution_count": null,
   "id": "inappropriate-lexington",
   "metadata": {},
   "outputs": [],
   "source": [
    "def ad_sim(f):\n",
    "    omega = 2 * jnp.pi * f\n",
    "    gamma = 1j * jnp.sqrt(omega ** 2 * mu_0 * eps_0)\n",
    "    antenna_data = load_antenna_el_properties(f)\n",
    "    Is = antenna_data.ireal.to_numpy() + antenna_data.iimag.to_numpy() * 1j\n",
    "    Is = jnp.asarray(Is)\n",
    "    dx = antenna_data.x[1] - antenna_data.x[0]\n",
    "    Is_x = holoborodko(Is, dx)\n",
    "    Is_x = jnp.asarray(Is_x)\n",
    "    xs = antenna_data.x.to_numpy()\n",
    "    xs = jnp.asarray(xs)\n",
    "    ys = jnp.zeros_like(xs)\n",
    "    zs = jnp.zeros_like(xs)\n",
    "    xt = jnp.linspace(-target_area[0]/2, target_area[0]/2, N[0]) + xs[-1] / 2\n",
    "    yt = jnp.linspace(-target_area[1]/2, target_area[1]/2, N[1])\n",
    "    zt = jnp.array([d])\n",
    "    Sab_dist = jnp.empty((xt.size, yt.size, zt.size))\n",
    "    for x_idx, _xt in enumerate(xt):\n",
    "        for y_idx, _yt in enumerate(yt):\n",
    "            for z_idx, _zt in enumerate(zt):\n",
    "                g = green_ad(np.asarray([_xt, _yt, _zt]), xs, ys, zs, omega)\n",
    "                J = green_jac(np.asarray([_xt, _yt, _zt]), xs, ys, zs, omega)\n",
    "                Ex = (1 / (1j * 4 * jnp.pi * omega * eps_0)\n",
    "                      * (- equad(Is_x * J[:, 0], xs, 3)\n",
    "                         - gamma ** 2 * equad(Is * g, xs, 3)))\n",
    "                Hy = 1 / (4 * jnp.pi) * equad(Is * J[:, 2], xs, 3)\n",
    "                Sab_dist = index_update(Sab_dist, index[x_idx, y_idx, z_idx],\n",
    "                    np.real(np.sqrt(np.power(Ex * Hy.conj(), 2))))\n",
    "    return 1 / (2 * A) * edblquad(Sab_dist, xt, yt, 31)"
   ]
  },
  {
   "cell_type": "code",
   "execution_count": null,
   "id": "stylish-blackjack",
   "metadata": {},
   "outputs": [],
   "source": [
    "Sab_fs_ad_list = []\n",
    "for f in f_list:\n",
    "    Sab_fs_ad_list.append(ad_sim(f * 1e9))"
   ]
  },
  {
   "cell_type": "code",
   "execution_count": null,
   "id": "healthy-explosion",
   "metadata": {},
   "outputs": [],
   "source": [
    "def fd_sim(f, delta):\n",
    "    omega = 2 * np.pi * f\n",
    "    gamma = 1j * np.sqrt(omega ** 2 * mu_0 * eps_0)\n",
    "    antenna_data = load_antenna_el_properties(f)\n",
    "    Is = antenna_data.ireal.to_numpy() + antenna_data.iimag.to_numpy() * 1j\n",
    "    dx = antenna_data.x[1] - antenna_data.x[0]\n",
    "    Is_x = holoborodko(Is, dx)\n",
    "    xs = antenna_data.x.to_numpy()\n",
    "    ys = np.zeros_like(xs)\n",
    "    zs = np.zeros_like(xs)\n",
    "    xt = np.linspace(-target_area[0]/2, target_area[0]/2, N[0]) + xs[-1] / 2\n",
    "    yt = np.linspace(-target_area[1]/2, target_area[1]/2, N[1])\n",
    "    zt = np.array([d])\n",
    "    Sab_dist = np.empty((xt.size, yt.size, zt.size))\n",
    "    for x_idx, _xt in enumerate(xt):\n",
    "        for y_idx, _yt in enumerate(yt):\n",
    "            for z_idx, _zt in enumerate(zt):\n",
    "                g = green_fd(_xt, _yt, _zt, xs, ys, zs, omega)\n",
    "                g_x = central_difference(green_fd, axis='x',\n",
    "                    args=(_yt, _zt, xs, ys, zs, omega), eps=delta)(_xt)\n",
    "                g_z = central_difference(green_fd, axis='z',\n",
    "                    args=(_xt, _yt, xs, ys, zs, omega), eps=delta)(_zt)\n",
    "                Ex = (1 / (1j * 4 * np.pi * omega * eps_0)\n",
    "                      * (- equad(Is_x * g_x, xs, 3)\n",
    "                         - gamma ** 2 * equad(Is * g, xs, 3)))\n",
    "                Hy = 1 / (4 * np.pi) * equad(Is * g_z, xs, 3)\n",
    "                Sab_dist[x_idx, y_idx, z_idx] = np.real(\n",
    "                    np.sqrt(np.power(Ex * Hy.conj(), 2)))\n",
    "    return 1 / (2 * A) * edblquad(Sab_dist, xt, yt, 31)"
   ]
  },
  {
   "cell_type": "code",
   "execution_count": null,
   "id": "maritime-likelihood",
   "metadata": {},
   "outputs": [],
   "source": [
    "Sab_fs_fd_dict = {}\n",
    "for delta in delta_list:\n",
    "    Sab_fs_fd_list = []\n",
    "    for f in f_list:\n",
    "        Sab_fs_fd_list.append(fd_sim(f * 1e9, delta))\n",
    "        Sab_fs_fd_dict[delta] = Sab_fs_fd_list"
   ]
  },
  {
   "cell_type": "code",
   "execution_count": null,
   "id": "hawaiian-sample",
   "metadata": {},
   "outputs": [],
   "source": [
    "RMSE_dict = {}\n",
    "for key, val in Sab_fs_fd_dict.items():\n",
    "    RMSE_dict[key] = rmse(np.asarray(Sab_fs_ad_list), np.asarray(val))"
   ]
  },
  {
   "cell_type": "code",
   "execution_count": null,
   "id": "dedicated-battle",
   "metadata": {},
   "outputs": [],
   "source": [
    "marker_list = ['v', 'd', '^']\n",
    "\n",
    "fig_config(latex=True, scaler=1.5)\n",
    "fig = plt.figure()\n",
    "ax = fig.add_subplot(111)\n",
    "ax.plot(f_list, Sab_fs_ad_list, 's-', color=B, label=f'AD')\n",
    "for delta, marker in zip(delta_list, marker_list):\n",
    "    ax.plot(f_list, Sab_fs_fd_dict[delta], '-', dashes=(3, 4), marker=marker,\n",
    "            color=R,\n",
    "            label=f'FD, $\\\\delta = {delta}$ (RMSE {RMSE_dict[delta]:.2e})')\n",
    "ax.set_xlabel(r'$f$ [GHz]')\n",
    "ax.set_ylabel(r'S$_{ab, f.s.}$ [W/m]')\n",
    "ax.set_xscale('log')\n",
    "ax.legend()\n",
    "ax.grid()\n",
    "plt.show()"
   ]
  },
  {
   "cell_type": "code",
   "execution_count": null,
   "id": "automated-subscriber",
   "metadata": {},
   "outputs": [],
   "source": [
    "fname = 'fig3'\n",
    "fig.savefig(os.path.join('figures', f'{fname}.pdf'),\n",
    "            transparent=True,\n",
    "            bbox_inches='tight', pad_inches=0.1)"
   ]
  },
  {
   "cell_type": "code",
   "execution_count": null,
   "id": "earlier-relative",
   "metadata": {},
   "outputs": [],
   "source": []
  }
 ],
 "metadata": {
  "kernelspec": {
   "display_name": "Python 3",
   "language": "python",
   "name": "python3"
  },
  "language_info": {
   "codemirror_mode": {
    "name": "ipython",
    "version": 3
   },
   "file_extension": ".py",
   "mimetype": "text/x-python",
   "name": "python",
   "nbconvert_exporter": "python",
   "pygments_lexer": "ipython3",
   "version": "3.8.5"
  }
 },
 "nbformat": 4,
 "nbformat_minor": 5
}
